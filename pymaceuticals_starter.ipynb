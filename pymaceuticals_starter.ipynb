{
 "cells": [
  {
   "cell_type": "markdown",
   "metadata": {},
   "source": [
    "## Observations and Insights "
   ]
  },
  {
   "cell_type": "markdown",
   "metadata": {},
   "source": []
  },
  {
   "cell_type": "code",
   "execution_count": 1,
   "metadata": {},
   "outputs": [],
   "source": [
    "# Analysis & Observation\n",
    "# 1.\n",
    "# 2.\n",
    "# 3."
   ]
  },
  {
   "cell_type": "code",
   "execution_count": 2,
   "metadata": {},
   "outputs": [
    {
     "data": {
      "text/html": [
       "<div>\n",
       "<style scoped>\n",
       "    .dataframe tbody tr th:only-of-type {\n",
       "        vertical-align: middle;\n",
       "    }\n",
       "\n",
       "    .dataframe tbody tr th {\n",
       "        vertical-align: top;\n",
       "    }\n",
       "\n",
       "    .dataframe thead th {\n",
       "        text-align: right;\n",
       "    }\n",
       "</style>\n",
       "<table border=\"1\" class=\"dataframe\">\n",
       "  <thead>\n",
       "    <tr style=\"text-align: right;\">\n",
       "      <th></th>\n",
       "      <th>Mouse ID</th>\n",
       "      <th>Drug Regimen</th>\n",
       "      <th>Sex</th>\n",
       "      <th>Age_months</th>\n",
       "      <th>Weight (g)</th>\n",
       "      <th>Timepoint</th>\n",
       "      <th>Tumor Volume (mm3)</th>\n",
       "      <th>Metastatic Sites</th>\n",
       "    </tr>\n",
       "  </thead>\n",
       "  <tbody>\n",
       "    <tr>\n",
       "      <th>0</th>\n",
       "      <td>k403</td>\n",
       "      <td>Ramicane</td>\n",
       "      <td>Male</td>\n",
       "      <td>21</td>\n",
       "      <td>16</td>\n",
       "      <td>0</td>\n",
       "      <td>45.000000</td>\n",
       "      <td>0</td>\n",
       "    </tr>\n",
       "    <tr>\n",
       "      <th>1</th>\n",
       "      <td>k403</td>\n",
       "      <td>Ramicane</td>\n",
       "      <td>Male</td>\n",
       "      <td>21</td>\n",
       "      <td>16</td>\n",
       "      <td>5</td>\n",
       "      <td>38.825898</td>\n",
       "      <td>0</td>\n",
       "    </tr>\n",
       "    <tr>\n",
       "      <th>2</th>\n",
       "      <td>k403</td>\n",
       "      <td>Ramicane</td>\n",
       "      <td>Male</td>\n",
       "      <td>21</td>\n",
       "      <td>16</td>\n",
       "      <td>10</td>\n",
       "      <td>35.014271</td>\n",
       "      <td>1</td>\n",
       "    </tr>\n",
       "    <tr>\n",
       "      <th>3</th>\n",
       "      <td>k403</td>\n",
       "      <td>Ramicane</td>\n",
       "      <td>Male</td>\n",
       "      <td>21</td>\n",
       "      <td>16</td>\n",
       "      <td>15</td>\n",
       "      <td>34.223992</td>\n",
       "      <td>1</td>\n",
       "    </tr>\n",
       "    <tr>\n",
       "      <th>4</th>\n",
       "      <td>k403</td>\n",
       "      <td>Ramicane</td>\n",
       "      <td>Male</td>\n",
       "      <td>21</td>\n",
       "      <td>16</td>\n",
       "      <td>20</td>\n",
       "      <td>32.997729</td>\n",
       "      <td>1</td>\n",
       "    </tr>\n",
       "  </tbody>\n",
       "</table>\n",
       "</div>"
      ],
      "text/plain": [
       "  Mouse ID Drug Regimen   Sex  Age_months  Weight (g)  Timepoint  \\\n",
       "0     k403     Ramicane  Male          21          16          0   \n",
       "1     k403     Ramicane  Male          21          16          5   \n",
       "2     k403     Ramicane  Male          21          16         10   \n",
       "3     k403     Ramicane  Male          21          16         15   \n",
       "4     k403     Ramicane  Male          21          16         20   \n",
       "\n",
       "   Tumor Volume (mm3)  Metastatic Sites  \n",
       "0           45.000000                 0  \n",
       "1           38.825898                 0  \n",
       "2           35.014271                 1  \n",
       "3           34.223992                 1  \n",
       "4           32.997729                 1  "
      ]
     },
     "execution_count": 2,
     "metadata": {},
     "output_type": "execute_result"
    }
   ],
   "source": [
    "# Dependencies and Setup\n",
    "import matplotlib.pyplot as plt\n",
    "import pandas as pd\n",
    "import scipy.stats as st\n",
    "import numpy as np\n",
    "from scipy.stats import linregress\n",
    "\n",
    "# Study data files\n",
    "mouse_metadata_path = \"data/Mouse_metadata.csv\"\n",
    "study_results_path = \"data/Study_results.csv\"\n",
    "\n",
    "# Read the mouse data and the study results\n",
    "mouse_metadata = pd.read_csv(mouse_metadata_path)\n",
    "study_results = pd.read_csv(study_results_path)\n",
    "\n",
    "# Combine the data into a single dataset\n",
    "combined_data=pd.merge(mouse_metadata,study_results,on=\"Mouse ID\", how=\"outer\")\n",
    "# Display the data table for preview\n",
    "combined_data.head()\n",
    "\n",
    "\n",
    "# print(mouse_metadata)\n",
    "# print(study_results)"
   ]
  },
  {
   "cell_type": "code",
   "execution_count": 3,
   "metadata": {},
   "outputs": [
    {
     "data": {
      "text/plain": [
       "1893"
      ]
     },
     "execution_count": 3,
     "metadata": {},
     "output_type": "execute_result"
    }
   ],
   "source": [
    "# Checking the number of mice.\n",
    "# combined_data['Mouse ID'].count\n",
    "# number_unique_mice=len(combined_data['Mouse ID'].unique())\n",
    "# number_unique_mice\n",
    "number_mice=len(combined_data['Mouse ID'])\n",
    "number_mice"
   ]
  },
  {
   "cell_type": "code",
   "execution_count": 4,
   "metadata": {},
   "outputs": [
    {
     "data": {
      "text/plain": [
       "249"
      ]
     },
     "execution_count": 4,
     "metadata": {},
     "output_type": "execute_result"
    }
   ],
   "source": [
    "number_unique_mice=len(combined_data['Mouse ID'].unique())\n",
    "number_unique_mice"
   ]
  },
  {
   "cell_type": "code",
   "execution_count": 5,
   "metadata": {},
   "outputs": [
    {
     "data": {
      "text/plain": [
       "g989    13\n",
       "k403    10\n",
       "b742    10\n",
       "o287    10\n",
       "c139    10\n",
       "        ..\n",
       "b447     1\n",
       "h428     1\n",
       "u153     1\n",
       "x226     1\n",
       "t573     1\n",
       "Name: Mouse ID, Length: 249, dtype: int64"
      ]
     },
     "execution_count": 5,
     "metadata": {},
     "output_type": "execute_result"
    }
   ],
   "source": [
    "number_mice_2=combined_data[\"Mouse ID\"].value_counts()\n",
    "number_mice_2"
   ]
  },
  {
   "cell_type": "code",
   "execution_count": 6,
   "metadata": {},
   "outputs": [
    {
     "data": {
      "text/plain": [
       "array(['g989'], dtype=object)"
      ]
     },
     "execution_count": 6,
     "metadata": {},
     "output_type": "execute_result"
    }
   ],
   "source": [
    "# Getting the duplicate mice by ID number that shows up for Mouse ID and Timepoint. \n",
    "duplicate_mice_3 = combined_data.loc[combined_data.duplicated(subset=[\"Mouse ID\", \"Timepoint\"]),'Mouse ID'].unique()\n",
    "duplicate_mice_3"
   ]
  },
  {
   "cell_type": "code",
   "execution_count": 7,
   "metadata": {},
   "outputs": [
    {
     "data": {
      "text/html": [
       "<div>\n",
       "<style scoped>\n",
       "    .dataframe tbody tr th:only-of-type {\n",
       "        vertical-align: middle;\n",
       "    }\n",
       "\n",
       "    .dataframe tbody tr th {\n",
       "        vertical-align: top;\n",
       "    }\n",
       "\n",
       "    .dataframe thead th {\n",
       "        text-align: right;\n",
       "    }\n",
       "</style>\n",
       "<table border=\"1\" class=\"dataframe\">\n",
       "  <thead>\n",
       "    <tr style=\"text-align: right;\">\n",
       "      <th></th>\n",
       "      <th>Mouse ID</th>\n",
       "      <th>Drug Regimen</th>\n",
       "      <th>Sex</th>\n",
       "      <th>Age_months</th>\n",
       "      <th>Weight (g)</th>\n",
       "      <th>Timepoint</th>\n",
       "      <th>Tumor Volume (mm3)</th>\n",
       "      <th>Metastatic Sites</th>\n",
       "    </tr>\n",
       "  </thead>\n",
       "  <tbody>\n",
       "    <tr>\n",
       "      <th>0</th>\n",
       "      <td>k403</td>\n",
       "      <td>Ramicane</td>\n",
       "      <td>Male</td>\n",
       "      <td>21</td>\n",
       "      <td>16</td>\n",
       "      <td>0</td>\n",
       "      <td>45.000000</td>\n",
       "      <td>0</td>\n",
       "    </tr>\n",
       "    <tr>\n",
       "      <th>1</th>\n",
       "      <td>k403</td>\n",
       "      <td>Ramicane</td>\n",
       "      <td>Male</td>\n",
       "      <td>21</td>\n",
       "      <td>16</td>\n",
       "      <td>5</td>\n",
       "      <td>38.825898</td>\n",
       "      <td>0</td>\n",
       "    </tr>\n",
       "    <tr>\n",
       "      <th>2</th>\n",
       "      <td>k403</td>\n",
       "      <td>Ramicane</td>\n",
       "      <td>Male</td>\n",
       "      <td>21</td>\n",
       "      <td>16</td>\n",
       "      <td>10</td>\n",
       "      <td>35.014271</td>\n",
       "      <td>1</td>\n",
       "    </tr>\n",
       "    <tr>\n",
       "      <th>3</th>\n",
       "      <td>k403</td>\n",
       "      <td>Ramicane</td>\n",
       "      <td>Male</td>\n",
       "      <td>21</td>\n",
       "      <td>16</td>\n",
       "      <td>15</td>\n",
       "      <td>34.223992</td>\n",
       "      <td>1</td>\n",
       "    </tr>\n",
       "    <tr>\n",
       "      <th>4</th>\n",
       "      <td>k403</td>\n",
       "      <td>Ramicane</td>\n",
       "      <td>Male</td>\n",
       "      <td>21</td>\n",
       "      <td>16</td>\n",
       "      <td>20</td>\n",
       "      <td>32.997729</td>\n",
       "      <td>1</td>\n",
       "    </tr>\n",
       "    <tr>\n",
       "      <th>...</th>\n",
       "      <td>...</td>\n",
       "      <td>...</td>\n",
       "      <td>...</td>\n",
       "      <td>...</td>\n",
       "      <td>...</td>\n",
       "      <td>...</td>\n",
       "      <td>...</td>\n",
       "      <td>...</td>\n",
       "    </tr>\n",
       "    <tr>\n",
       "      <th>1888</th>\n",
       "      <td>z969</td>\n",
       "      <td>Naftisol</td>\n",
       "      <td>Male</td>\n",
       "      <td>9</td>\n",
       "      <td>30</td>\n",
       "      <td>25</td>\n",
       "      <td>63.145652</td>\n",
       "      <td>2</td>\n",
       "    </tr>\n",
       "    <tr>\n",
       "      <th>1889</th>\n",
       "      <td>z969</td>\n",
       "      <td>Naftisol</td>\n",
       "      <td>Male</td>\n",
       "      <td>9</td>\n",
       "      <td>30</td>\n",
       "      <td>30</td>\n",
       "      <td>65.841013</td>\n",
       "      <td>3</td>\n",
       "    </tr>\n",
       "    <tr>\n",
       "      <th>1890</th>\n",
       "      <td>z969</td>\n",
       "      <td>Naftisol</td>\n",
       "      <td>Male</td>\n",
       "      <td>9</td>\n",
       "      <td>30</td>\n",
       "      <td>35</td>\n",
       "      <td>69.176246</td>\n",
       "      <td>4</td>\n",
       "    </tr>\n",
       "    <tr>\n",
       "      <th>1891</th>\n",
       "      <td>z969</td>\n",
       "      <td>Naftisol</td>\n",
       "      <td>Male</td>\n",
       "      <td>9</td>\n",
       "      <td>30</td>\n",
       "      <td>40</td>\n",
       "      <td>70.314904</td>\n",
       "      <td>4</td>\n",
       "    </tr>\n",
       "    <tr>\n",
       "      <th>1892</th>\n",
       "      <td>z969</td>\n",
       "      <td>Naftisol</td>\n",
       "      <td>Male</td>\n",
       "      <td>9</td>\n",
       "      <td>30</td>\n",
       "      <td>45</td>\n",
       "      <td>73.867845</td>\n",
       "      <td>4</td>\n",
       "    </tr>\n",
       "  </tbody>\n",
       "</table>\n",
       "<p>1880 rows × 8 columns</p>\n",
       "</div>"
      ],
      "text/plain": [
       "     Mouse ID Drug Regimen   Sex  Age_months  Weight (g)  Timepoint  \\\n",
       "0        k403     Ramicane  Male          21          16          0   \n",
       "1        k403     Ramicane  Male          21          16          5   \n",
       "2        k403     Ramicane  Male          21          16         10   \n",
       "3        k403     Ramicane  Male          21          16         15   \n",
       "4        k403     Ramicane  Male          21          16         20   \n",
       "...       ...          ...   ...         ...         ...        ...   \n",
       "1888     z969     Naftisol  Male           9          30         25   \n",
       "1889     z969     Naftisol  Male           9          30         30   \n",
       "1890     z969     Naftisol  Male           9          30         35   \n",
       "1891     z969     Naftisol  Male           9          30         40   \n",
       "1892     z969     Naftisol  Male           9          30         45   \n",
       "\n",
       "      Tumor Volume (mm3)  Metastatic Sites  \n",
       "0              45.000000                 0  \n",
       "1              38.825898                 0  \n",
       "2              35.014271                 1  \n",
       "3              34.223992                 1  \n",
       "4              32.997729                 1  \n",
       "...                  ...               ...  \n",
       "1888           63.145652                 2  \n",
       "1889           65.841013                 3  \n",
       "1890           69.176246                 4  \n",
       "1891           70.314904                 4  \n",
       "1892           73.867845                 4  \n",
       "\n",
       "[1880 rows x 8 columns]"
      ]
     },
     "execution_count": 7,
     "metadata": {},
     "output_type": "execute_result"
    }
   ],
   "source": [
    "# clean_df= combined_data.drop_duplicates()\n",
    "clean_df = combined_data[combined_data['Mouse ID'].isin(duplicate_mice_3)==False]\n",
    "\n",
    "# cleaned_data=combined_data[combined_data['Mouse ID'].isin(drop_data)==False]\n",
    "# cleaned_data=drop_data.loc[:,'Mouse ID'].unique()\n",
    "clean_df"
   ]
  },
  {
   "cell_type": "code",
   "execution_count": 8,
   "metadata": {
    "scrolled": true
   },
   "outputs": [
    {
     "data": {
      "text/plain": [
       "array(['k403', 's185', 'x401', 'm601', 'g791', 's508', 'f966', 'm546',\n",
       "       'z578', 'j913', 'u364', 'n364', 'y793', 'r554', 'm957', 'c758',\n",
       "       't565', 'a644', 'i177', 'j989', 'i738', 'a520', 'w914', 'r811',\n",
       "       'g288', 'i334', 'q610', 'd251', 'l897', 'c458', 'b742', 'b128',\n",
       "       'j246', 'a411', 'j119', 'w150', 'v923', 'g316', 's710', 'l509',\n",
       "       'r944', 'e662', 'u196', 'q597', 'a444', 'i557', 'r921', 'w678',\n",
       "       'y449', 'a203', 'a251', 'a262', 'a275', 'a366', 'a401', 'a457',\n",
       "       'a492', 'a577', 'a685', 'a699', 'a788', 'a818', 'a897', 'a963',\n",
       "       'b313', 'b447', 'b487', 'b559', 'b759', 'b879', 'c139', 'c264',\n",
       "       'c282', 'c302', 'c326', 'c402', 'c559', 'c580', 'c757', 'c766',\n",
       "       'c819', 'c832', 'c895', 'c927', 'd133', 'd164', 'd474', 'e213',\n",
       "       'e227', 'e291', 'e476', 'e584', 'f129', 'f234', 'f278', 'f345',\n",
       "       'f394', 'f436', 'f545', 'f932', 'f993', 'g107', 'g296', 'g497',\n",
       "       'g558', 'g570', 'g867', 'h246', 'h333', 'h428', 'h531', 'i386',\n",
       "       'i477', 'i635', 'i669', 'i901', 'j235', 'j296', 'j365', 'j755',\n",
       "       'j984', 'k210', 'k382', 'k483', 'k510', 'k603', 'k754', 'k804',\n",
       "       'k862', 'k894', 'l215', 'l264', 'l471', 'l490', 'l558', 'l661',\n",
       "       'l700', 'l725', 'l733', 'l872', 'm133', 'm269', 'm331', 'm550',\n",
       "       'm650', 'm756', 'n304', 'n482', 'n630', 'n671', 'n678', 'n763',\n",
       "       'n923', 'n967', 'o287', 'o302', 'o331', 'o523', 'o562', 'o725',\n",
       "       'o795', 'o809', 'o813', 'o848', 'o926', 'o973', 'p136', 'p189',\n",
       "       'p310', 'p387', 'p438', 'p981', 'q119', 'q132', 'q483', 'q511',\n",
       "       'q582', 'q633', 'q787', 'r107', 'r157', 'r604', 'r701', 'r850',\n",
       "       's121', 's141', 's152', 's166', 's187', 's337', 's565', 's619',\n",
       "       't198', 't451', 't573', 't718', 't724', 't994', 'u149', 'u153',\n",
       "       'u327', 'u946', 'v199', 'v289', 'v295', 'v339', 'v409', 'v603',\n",
       "       'v719', 'v764', 'v766', 'v835', 'v989', 'v991', 'w140', 'w151',\n",
       "       'w167', 'w193', 'w350', 'w422', 'w540', 'w575', 'w584', 'w697',\n",
       "       'w746', 'x111', 'x209', 'x226', 'x264', 'x336', 'x402', 'x581',\n",
       "       'x613', 'x773', 'x822', 'x930', 'y163', 'y260', 'y478', 'y601',\n",
       "       'y769', 'y865', 'z234', 'z314', 'z435', 'z581', 'z795', 'z969'],\n",
       "      dtype=object)"
      ]
     },
     "execution_count": 8,
     "metadata": {},
     "output_type": "execute_result"
    }
   ],
   "source": [
    "dropped_data=clean_df[\"Mouse ID\"].unique()\n",
    "dropped_data"
   ]
  },
  {
   "cell_type": "code",
   "execution_count": 9,
   "metadata": {},
   "outputs": [
    {
     "data": {
      "text/plain": [
       "248"
      ]
     },
     "execution_count": 9,
     "metadata": {},
     "output_type": "execute_result"
    }
   ],
   "source": [
    "len_dropped_data=len(clean_df[\"Mouse ID\"].unique())\n",
    "len_dropped_data"
   ]
  },
  {
   "cell_type": "code",
   "execution_count": 10,
   "metadata": {},
   "outputs": [],
   "source": [
    "# Optional: Get all the data for the duplicate mouse ID. \n",
    "\n"
   ]
  },
  {
   "cell_type": "code",
   "execution_count": 11,
   "metadata": {},
   "outputs": [],
   "source": [
    "# Create a clean DataFrame by dropping the duplicate mouse by its ID.\n",
    "# clean_df=pd.DataFrame(drop_data)\n"
   ]
  },
  {
   "cell_type": "code",
   "execution_count": 12,
   "metadata": {},
   "outputs": [],
   "source": [
    "# clean_df"
   ]
  },
  {
   "cell_type": "code",
   "execution_count": 13,
   "metadata": {},
   "outputs": [],
   "source": [
    "# Checking the number of mice in the clean DataFrame.\n"
   ]
  },
  {
   "cell_type": "markdown",
   "metadata": {},
   "source": [
    "## Summary Statistics"
   ]
  },
  {
   "cell_type": "code",
   "execution_count": 14,
   "metadata": {},
   "outputs": [
    {
     "data": {
      "text/html": [
       "<div>\n",
       "<style scoped>\n",
       "    .dataframe tbody tr th:only-of-type {\n",
       "        vertical-align: middle;\n",
       "    }\n",
       "\n",
       "    .dataframe tbody tr th {\n",
       "        vertical-align: top;\n",
       "    }\n",
       "\n",
       "    .dataframe thead th {\n",
       "        text-align: right;\n",
       "    }\n",
       "</style>\n",
       "<table border=\"1\" class=\"dataframe\">\n",
       "  <thead>\n",
       "    <tr style=\"text-align: right;\">\n",
       "      <th></th>\n",
       "      <th>Mean</th>\n",
       "      <th>Median</th>\n",
       "      <th>Variance</th>\n",
       "      <th>Standard Deviation</th>\n",
       "      <th>SEM</th>\n",
       "    </tr>\n",
       "    <tr>\n",
       "      <th>Drug Regimen</th>\n",
       "      <th></th>\n",
       "      <th></th>\n",
       "      <th></th>\n",
       "      <th></th>\n",
       "      <th></th>\n",
       "    </tr>\n",
       "  </thead>\n",
       "  <tbody>\n",
       "    <tr>\n",
       "      <th>Capomulin</th>\n",
       "      <td>40.675741</td>\n",
       "      <td>41.557809</td>\n",
       "      <td>24.947764</td>\n",
       "      <td>4.994774</td>\n",
       "      <td>0.329346</td>\n",
       "    </tr>\n",
       "    <tr>\n",
       "      <th>Ceftamin</th>\n",
       "      <td>52.591172</td>\n",
       "      <td>51.776157</td>\n",
       "      <td>39.290177</td>\n",
       "      <td>6.268188</td>\n",
       "      <td>0.469821</td>\n",
       "    </tr>\n",
       "    <tr>\n",
       "      <th>Infubinol</th>\n",
       "      <td>52.884795</td>\n",
       "      <td>51.820584</td>\n",
       "      <td>43.128684</td>\n",
       "      <td>6.567243</td>\n",
       "      <td>0.492236</td>\n",
       "    </tr>\n",
       "    <tr>\n",
       "      <th>Ketapril</th>\n",
       "      <td>55.235638</td>\n",
       "      <td>53.698743</td>\n",
       "      <td>68.553577</td>\n",
       "      <td>8.279709</td>\n",
       "      <td>0.603860</td>\n",
       "    </tr>\n",
       "    <tr>\n",
       "      <th>Naftisol</th>\n",
       "      <td>54.331565</td>\n",
       "      <td>52.509285</td>\n",
       "      <td>66.173479</td>\n",
       "      <td>8.134708</td>\n",
       "      <td>0.596466</td>\n",
       "    </tr>\n",
       "    <tr>\n",
       "      <th>Placebo</th>\n",
       "      <td>54.033581</td>\n",
       "      <td>52.288934</td>\n",
       "      <td>61.168083</td>\n",
       "      <td>7.821003</td>\n",
       "      <td>0.581331</td>\n",
       "    </tr>\n",
       "    <tr>\n",
       "      <th>Propriva</th>\n",
       "      <td>52.320930</td>\n",
       "      <td>50.446266</td>\n",
       "      <td>43.852013</td>\n",
       "      <td>6.622085</td>\n",
       "      <td>0.544332</td>\n",
       "    </tr>\n",
       "    <tr>\n",
       "      <th>Ramicane</th>\n",
       "      <td>40.216745</td>\n",
       "      <td>40.673236</td>\n",
       "      <td>23.486704</td>\n",
       "      <td>4.846308</td>\n",
       "      <td>0.320955</td>\n",
       "    </tr>\n",
       "    <tr>\n",
       "      <th>Stelasyn</th>\n",
       "      <td>54.233149</td>\n",
       "      <td>52.431737</td>\n",
       "      <td>59.450562</td>\n",
       "      <td>7.710419</td>\n",
       "      <td>0.573111</td>\n",
       "    </tr>\n",
       "    <tr>\n",
       "      <th>Zoniferol</th>\n",
       "      <td>53.236507</td>\n",
       "      <td>51.818479</td>\n",
       "      <td>48.533355</td>\n",
       "      <td>6.966589</td>\n",
       "      <td>0.516398</td>\n",
       "    </tr>\n",
       "  </tbody>\n",
       "</table>\n",
       "</div>"
      ],
      "text/plain": [
       "                   Mean     Median   Variance  Standard Deviation       SEM\n",
       "Drug Regimen                                                               \n",
       "Capomulin     40.675741  41.557809  24.947764            4.994774  0.329346\n",
       "Ceftamin      52.591172  51.776157  39.290177            6.268188  0.469821\n",
       "Infubinol     52.884795  51.820584  43.128684            6.567243  0.492236\n",
       "Ketapril      55.235638  53.698743  68.553577            8.279709  0.603860\n",
       "Naftisol      54.331565  52.509285  66.173479            8.134708  0.596466\n",
       "Placebo       54.033581  52.288934  61.168083            7.821003  0.581331\n",
       "Propriva      52.320930  50.446266  43.852013            6.622085  0.544332\n",
       "Ramicane      40.216745  40.673236  23.486704            4.846308  0.320955\n",
       "Stelasyn      54.233149  52.431737  59.450562            7.710419  0.573111\n",
       "Zoniferol     53.236507  51.818479  48.533355            6.966589  0.516398"
      ]
     },
     "execution_count": 14,
     "metadata": {},
     "output_type": "execute_result"
    }
   ],
   "source": [
    "# Generate a summary statistics table of mean, median, variance, standard deviation, and SEM of the tumor volume for each regimen\n",
    "\n",
    "# This method is the most straighforward, creating multiple series and putting them all together at the end.\n",
    "regime_group=clean_df.groupby('Drug Regimen')\n",
    "\n",
    "regimen_mean=regime_group[\"Tumor Volume (mm3)\"].mean()\n",
    "# print(regimen_mean)\n",
    "regimen_median=regime_group[\"Tumor Volume (mm3)\"].median()\n",
    "# print(regimen_median)\n",
    "regimen_variance=regime_group[\"Tumor Volume (mm3)\"].var()\n",
    "# print(regimen_variance)\n",
    "regimen_std_dev=regime_group[\"Tumor Volume (mm3)\"].std()\n",
    "# print(regimen_std_dev)\n",
    "regimen_sem=regime_group[\"Tumor Volume (mm3)\"].sem()\n",
    "# print(regimen_sem)\n",
    "\n",
    "summary_statistics_df=pd.DataFrame({\n",
    "    \"Mean\": regimen_mean, \n",
    "    \"Median\":regimen_median,\n",
    "    \"Variance\": regimen_variance, \n",
    "    \"Standard Deviation\":regimen_std_dev, \"SEM\": regimen_sem })\n",
    "summary_statistics_df"
   ]
  },
  {
   "cell_type": "code",
   "execution_count": null,
   "metadata": {},
   "outputs": [],
   "source": []
  },
  {
   "cell_type": "code",
   "execution_count": 15,
   "metadata": {},
   "outputs": [],
   "source": [
    "# Generate a summary statistics table of mean, median, variance, standard deviation, and SEM of the tumor volume for each regimen\n",
    "\n",
    "# This method produces everything in a single groupby function\n"
   ]
  },
  {
   "cell_type": "markdown",
   "metadata": {},
   "source": [
    "## Bar and Pie Charts"
   ]
  },
  {
   "cell_type": "code",
   "execution_count": 16,
   "metadata": {},
   "outputs": [],
   "source": [
    "# Generate a bar plot showing the total number of mice for each treatment throughout the course of the study using pandas. \n"
   ]
  },
  {
   "cell_type": "code",
   "execution_count": 17,
   "metadata": {},
   "outputs": [],
   "source": [
    "combined_group=combined_data.groupby('Drug Regimen')"
   ]
  },
  {
   "cell_type": "code",
   "execution_count": 18,
   "metadata": {},
   "outputs": [
    {
     "data": {
      "text/plain": [
       "Drug Regimen\n",
       "Capomulin    230\n",
       "Ceftamin     178\n",
       "Infubinol    178\n",
       "Ketapril     188\n",
       "Naftisol     186\n",
       "Placebo      181\n",
       "Propriva     161\n",
       "Ramicane     228\n",
       "Stelasyn     181\n",
       "Zoniferol    182\n",
       "Name: Mouse ID, dtype: int64"
      ]
     },
     "execution_count": 18,
     "metadata": {},
     "output_type": "execute_result"
    }
   ],
   "source": [
    "# Count how many times each maker appears in our group\n",
    "count_makers = combined_group['Mouse ID'].count()\n",
    "\n",
    "count_makers"
   ]
  },
  {
   "cell_type": "code",
   "execution_count": 19,
   "metadata": {},
   "outputs": [
    {
     "data": {
      "image/png": "[encoded data removed]",
      "text/plain": [
       "<Figure size 864x432 with 1 Axes>"
      ]
     },
     "metadata": {
      "needs_background": "light"
     },
     "output_type": "display_data"
    }
   ],
   "source": [
    "bar_pandas=count_makers.plot(kind=\"bar\", figsize=(12,6), color='b')\n",
    "bar_pandas.set_ylabel(\"Number of Mice\")\n",
    "plt.title(\"Total Number of Mice per Treatment\")\n",
    "plt.tight_layout()\n",
    "plt.show()"
   ]
  },
  {
   "cell_type": "code",
   "execution_count": null,
   "metadata": {},
   "outputs": [],
   "source": []
  },
  {
   "cell_type": "code",
   "execution_count": 20,
   "metadata": {},
   "outputs": [],
   "source": [
    "# Generate a bar plot showing the total number of mice for each treatment throughout the course of the study using pyplot.\n"
   ]
  },
  {
   "cell_type": "code",
   "execution_count": 21,
   "metadata": {},
   "outputs": [],
   "source": [
    "# number_of_mice = [Capomulin, Ceftamin, Infubinol, Ketapril, Naftisol, Placebo, Propriva, Ramicane, Stelasyn, Zoniferol]\n",
    "x_axis = np.arange(len(count_makers))\n",
    "# x_axis\n",
    "tick_locations = [value for value in x_axis]\n",
    "# tick_locations\n",
    "# number_of_mice = [Capomulin, Ceftamin, Infubinol, Ketapril, Naftisol, Placebo, Propriva, Ramicane, Stelasyn, Zoniferol]"
   ]
  },
  {
   "cell_type": "code",
   "execution_count": 22,
   "metadata": {},
   "outputs": [
    {
     "data": {
      "image/png": "[encoded data removed]",
      "text/plain": [
       "<Figure size 864x432 with 1 Axes>"
      ]
     },
     "metadata": {
      "needs_background": "light"
     },
     "output_type": "display_data"
    }
   ],
   "source": [
    "plt.figure(figsize=(12,6))\n",
    "plt.bar(x_axis, count_makers, color='b', alpha=.80, align=\"center\")\n",
    "plt.xticks(tick_locations, ['Capomulin', \n",
    "                            'Ceftamin', 'Infubinol', 'Ketapril', \n",
    "                            'Naftisol', 'Placebo', 'Propriva', \n",
    "                            'Ramicane', 'Stelasyn', 'Zoniferol'] , rotation=\"vertical\")\n",
    "plt.xlim(-.75, len(x_axis)-.25)\n",
    "plt.ylim(0, max(count_makers)+10)\n",
    "# Set a Title and labels\n",
    "plt.title(\"Total Number of Mice per Treatment\")\n",
    "plt.xlabel(\"Drug Regimen\")\n",
    "plt.ylabel(\"Number of Mice\")\n",
    "# # Save our graph and show the grap\n",
    "plt.tight_layout()\n",
    "# plt.savefig(\"../Images/avg_state_rain.png\")\n",
    "plt.show()"
   ]
  },
  {
   "cell_type": "code",
   "execution_count": null,
   "metadata": {},
   "outputs": [],
   "source": []
  },
  {
   "cell_type": "code",
   "execution_count": null,
   "metadata": {},
   "outputs": [],
   "source": []
  },
  {
   "cell_type": "code",
   "execution_count": 23,
   "metadata": {},
   "outputs": [
    {
     "data": {
      "text/plain": [
       "Sex\n",
       "Female    124\n",
       "Male      125\n",
       "Name: Mouse ID, dtype: int64"
      ]
     },
     "execution_count": 23,
     "metadata": {},
     "output_type": "execute_result"
    }
   ],
   "source": [
    "# Generate a pie plot showing the distribution of female versus male mice using pandas\n",
    "\n",
    "gender_group = combined_data.groupby(\"Sex\")\n",
    "unique_gender_count = gender_group.nunique()[\"Mouse ID\"]\n",
    "unique_gender_count"
   ]
  },
  {
   "cell_type": "code",
   "execution_count": 24,
   "metadata": {},
   "outputs": [
    {
     "data": {
      "text/plain": [
       "249"
      ]
     },
     "execution_count": 24,
     "metadata": {},
     "output_type": "execute_result"
    }
   ],
   "source": [
    "total_mice=len(combined_data['Mouse ID'].unique())\n",
    "total_mice"
   ]
  },
  {
   "cell_type": "code",
   "execution_count": 25,
   "metadata": {},
   "outputs": [
    {
     "data": {
      "text/plain": [
       "Sex\n",
       "Female    49.799197\n",
       "Male      50.200803\n",
       "Name: Mouse ID, dtype: float64"
      ]
     },
     "execution_count": 25,
     "metadata": {},
     "output_type": "execute_result"
    }
   ],
   "source": [
    "gender_percent=(unique_gender_count/total_mice)*100\n",
    "gender_percent"
   ]
  },
  {
   "cell_type": "code",
   "execution_count": 26,
   "metadata": {},
   "outputs": [
    {
     "data": {
      "text/html": [
       "<style  type=\"text/css\" >\n",
       "</style><table id=\"T_986e71a7_fd1a_11ea_b2b4_b05cda398ec3\" ><thead>    <tr>        <th class=\"blank level0\" ></th>        <th class=\"col_heading level0 col0\" >Total Count</th>        <th class=\"col_heading level0 col1\" >Percentage of Gender</th>    </tr>    <tr>        <th class=\"index_name level0\" >Sex</th>        <th class=\"blank\" ></th>        <th class=\"blank\" ></th>    </tr></thead><tbody>\n",
       "                <tr>\n",
       "                        <th id=\"T_986e71a7_fd1a_11ea_b2b4_b05cda398ec3level0_row0\" class=\"row_heading level0 row0\" >Male</th>\n",
       "                        <td id=\"T_986e71a7_fd1a_11ea_b2b4_b05cda398ec3row0_col0\" class=\"data row0 col0\" >125</td>\n",
       "                        <td id=\"T_986e71a7_fd1a_11ea_b2b4_b05cda398ec3row0_col1\" class=\"data row0 col1\" >50.20%</td>\n",
       "            </tr>\n",
       "            <tr>\n",
       "                        <th id=\"T_986e71a7_fd1a_11ea_b2b4_b05cda398ec3level0_row1\" class=\"row_heading level0 row1\" >Female</th>\n",
       "                        <td id=\"T_986e71a7_fd1a_11ea_b2b4_b05cda398ec3row1_col0\" class=\"data row1 col0\" >124</td>\n",
       "                        <td id=\"T_986e71a7_fd1a_11ea_b2b4_b05cda398ec3row1_col1\" class=\"data row1 col1\" >49.80%</td>\n",
       "            </tr>\n",
       "    </tbody></table>"
      ],
      "text/plain": [
       "<pandas.io.formats.style.Styler at 0x288b0ecbcd0>"
      ]
     },
     "execution_count": 26,
     "metadata": {},
     "output_type": "execute_result"
    }
   ],
   "source": [
    "gender_df=pd.DataFrame({\"Total Count\": unique_gender_count, \"Percentage of Gender\":gender_percent})\n",
    "gender_df.sort_values([\"Total Count\"], ascending = False).style.format({\"Percentage of Gender\":\"{:.2f}%\"})"
   ]
  },
  {
   "cell_type": "code",
   "execution_count": 27,
   "metadata": {
    "scrolled": true
   },
   "outputs": [
    {
     "data": {
      "image/png": "[encoded data removed]",
      "text/plain": [
       "<Figure size 360x360 with 1 Axes>"
      ]
     },
     "metadata": {},
     "output_type": "display_data"
    }
   ],
   "source": [
    "colors = ['red', 'blue']\n",
    "explode = (0.1, 0)\n",
    "gender_plot=gender_df.plot.pie(y= 'Total Count',figsize=(5,5), colors = colors, startangle=140, explode = explode, shadow = True, autopct=\"%1.1f%%\")\n",
    "# gender_df.plot.pie(subplots=True, shadow = True,startangle=90,\n",
    "# figsize=(15,10), autopct='%1.1f%%')\n",
    "plt.axis(\"equal\")\n",
    "plt.title('Female vs Male Mice',fontsize = 20)\n",
    "plt.ylabel('Sex',fontsize = 15)\n",
    "plt.tight_layout()\n",
    "plt.legend(loc='upper center', bbox_to_anchor=(1.45, 0.8), shadow=True, ncol=1)\n",
    "plt.show()"
   ]
  },
  {
   "cell_type": "code",
   "execution_count": null,
   "metadata": {},
   "outputs": [],
   "source": [
    "# Generate a pie plot showing the distribution of female versus male mice using pyplot\n",
    "\n",
    "gender=['Female', 'Male']\n",
    "percent = [49.8, 50.2]\n",
    "colors = ['red', 'blue']\n",
    "explode = (0.1,0)"
   ]
  },
  {
   "cell_type": "code",
   "execution_count": null,
   "metadata": {},
   "outputs": [],
   "source": []
  },
  {
   "cell_type": "code",
   "execution_count": null,
   "metadata": {},
   "outputs": [],
   "source": [
    "plt.pie(percent, explode=explode, labels=gender, colors=colors,\n",
    "        autopct=\"%1.1f%%\", shadow=True, startangle=140, )\n",
    "# Create axes which are equal so we have a perfect circle\n",
    "plt.axis(\"equal\")\n",
    "fig = plt.gcf()\n",
    "fig.set_size_inches(5,5)\n",
    "plt.title('Female vs Male Mice',fontsize = 20)\n",
    "plt.ylabel('Sex',fontsize = 15)\n",
    "plt.tight_layout()\n",
    "plt.legend(loc='upper center', bbox_to_anchor=(1.45, 0.8), shadow=True, ncol=1)\n",
    "plt.show()"
   ]
  },
  {
   "cell_type": "code",
   "execution_count": null,
   "metadata": {},
   "outputs": [],
   "source": []
  },
  {
   "cell_type": "code",
   "execution_count": null,
   "metadata": {},
   "outputs": [],
   "source": []
  },
  {
   "cell_type": "markdown",
   "metadata": {},
   "source": [
    "## Quartiles, Outliers and Boxplots"
   ]
  },
  {
   "cell_type": "code",
   "execution_count": null,
   "metadata": {},
   "outputs": [],
   "source": [
    "# Calculate the final tumor volume of each mouse across four of the treatment regimens:  \n",
    "# Capomulin, Ramicane, Infubinol, and Ceftamin\n",
    "\n",
    "# Start by getting the last (greatest) timepoint for each mouse\n",
    "\n",
    "\n",
    "# Merge this group df with the original dataframe to get the tumor volume at the last timepoint\n"
   ]
  },
  {
   "cell_type": "code",
   "execution_count": null,
   "metadata": {},
   "outputs": [],
   "source": [
    "# grouped_mouse=combined_data.groupby('Drug Regimen')\n",
    "\n",
    "# # Calculate\n",
    "# treatment_count=grouped_mouse['Mouse ID'].count()\n",
    "# # treatment_count\n",
    "# time_count=grouped_mouse['Timepoint'].max()\n",
    "# # time_count"
   ]
  },
  {
   "cell_type": "code",
   "execution_count": null,
   "metadata": {},
   "outputs": [],
   "source": [
    "# capomulin_df = pd.DataFrame(time_count)\n",
    "# capomulin_df"
   ]
  },
  {
   "cell_type": "code",
   "execution_count": null,
   "metadata": {},
   "outputs": [],
   "source": [
    "# reset_df = capomulin_df.reset_index()\n",
    "# reset_df.head()"
   ]
  },
  {
   "cell_type": "code",
   "execution_count": null,
   "metadata": {},
   "outputs": [],
   "source": [
    "# pd_merge = pd.merge(capomulin_df, combined_data, on=(\"Drug Regimen\",\"Timepoint\"),how=\"left\")\n",
    "# pd_merge"
   ]
  },
  {
   "cell_type": "code",
   "execution_count": null,
   "metadata": {},
   "outputs": [],
   "source": [
    "# tumor_vol=pd_merge[\"Tumor Volume (mm3)\"]\n",
    "# tumor_vol"
   ]
  },
  {
   "cell_type": "code",
   "execution_count": null,
   "metadata": {},
   "outputs": [],
   "source": []
  },
  {
   "cell_type": "code",
   "execution_count": null,
   "metadata": {},
   "outputs": [],
   "source": []
  },
  {
   "cell_type": "code",
   "execution_count": null,
   "metadata": {},
   "outputs": [],
   "source": []
  },
  {
   "cell_type": "code",
   "execution_count": null,
   "metadata": {},
   "outputs": [],
   "source": [
    "# # treatment_regimens=combined_data.loc['Capomulin', 'Ramicane', 'Infubinol','Ceftamin']\n",
    "# treatment_regimens=combined_data[['Drug Regimen', 'Timepoint', 'Mouse ID']]\n",
    "# treatment_regimens"
   ]
  },
  {
   "cell_type": "code",
   "execution_count": null,
   "metadata": {},
   "outputs": [],
   "source": [
    "# grouped_data = treatment_regimens.groupby(['Drug Regimen', \"Timepoint\", 'Mouse ID'])\n",
    "# print(grouped_data)"
   ]
  },
  {
   "cell_type": "code",
   "execution_count": null,
   "metadata": {},
   "outputs": [],
   "source": [
    "# treatment_count=grouped_data[\"Mouse ID\"].count()\n",
    "# treatment_count"
   ]
  },
  {
   "cell_type": "code",
   "execution_count": null,
   "metadata": {},
   "outputs": [],
   "source": [
    "# capomulin_vol = pd.DataFrame(grouped_data)\n",
    "# capomulin_vol"
   ]
  },
  {
   "cell_type": "code",
   "execution_count": null,
   "metadata": {},
   "outputs": [],
   "source": [
    "# capomulin_merge = pd.merge(capomulin_vol, combined_data, on=(\"Mouse ID\",\"Timepoint\"),how=\"left\")\n",
    "# capomulin_merge.head()"
   ]
  },
  {
   "cell_type": "code",
   "execution_count": null,
   "metadata": {},
   "outputs": [],
   "source": [
    "# # Example outlier plot of reaction times\n",
    "# times = [96,98,100,105,85,88,95,100,101,102,97,98,5]\n",
    "# fig1, ax1 = plt.subplots()\n",
    "# ax1.set_title('Reaction Times at Baseball Batting Cage')\n",
    "# ax1.set_ylabel('Reaction Time (ms)')\n",
    "# ax1.boxplot(times)\n",
    "# plt.show()\n",
    "# # We need to sort the data to determine which could be outliers\n",
    "# times.sort()\n",
    "# print(times)\n",
    "# # The second example again looks at the LAX temperature data set and computes quantiles\n",
    "# temperature_df = pd.read_csv('../Resources/lax_temperature.csv')\n",
    "# temperatures = temperature_df['HourlyDryBulbTemperature']\n",
    "\n",
    "# fig1, ax1 = plt.subplots()\n",
    "# ax1.set_title('Temperatures at LAX')\n",
    "# ax1.set_ylabel('Temperature (°F)')\n",
    "# ax1.boxplot(temperatures)\n",
    "# plt.show()\n",
    "# # If the data is in a dataframe, we use pandas to give quartile calculations\n",
    "# quartiles = temperatures.quantile([.25,.5,.75])\n",
    "# lowerq = quartiles[0.25]\n",
    "# upperq = quartiles[0.75]\n",
    "# iqr = upperq-lowerq\n",
    "\n",
    "# print(f\"The lower quartile of temperatures is: {lowerq}\")\n",
    "# print(f\"The upper quartile of temperatures is: {upperq}\")\n",
    "# print(f\"The interquartile range of temperatures is: {iqr}\")\n",
    "# print(f\"The the median of temperatures is: {quartiles[0.5]} \")\n",
    "\n",
    "# lower_bound = lowerq - (1.5*iqr)\n",
    "# upper_bound = upperq + (1.5*iqr)\n",
    "# print(f\"Values below {lower_bound} could be outliers.\")\n",
    "# print(f\"Values above {upper_bound} could be outliers.\")"
   ]
  },
  {
   "cell_type": "code",
   "execution_count": null,
   "metadata": {},
   "outputs": [],
   "source": [
    "# # Determine if there are any potential outliers in the average occupancy in California\n",
    "# quartiles = california_data['AveOccup'].quantile([.25,.5,.75])\n",
    "# lowerq = quartiles[0.25]\n",
    "# upperq = quartiles[0.75]\n",
    "# iqr = upperq-lowerq\n",
    "\n",
    "# print(f\"The lower quartile of occupancy is: {lowerq}\")\n",
    "# print(f\"The upper quartile of occupancy is: {upperq}\")\n",
    "# print(f\"The interquartile range of occupancy is: {iqr}\")\n",
    "# print(f\"The the median of occupancy is: {quartiles[0.5]} \")\n",
    "\n",
    "# lower_bound = lowerq - (1.5*iqr)\n",
    "# upper_bound = upperq + (1.5*iqr)\n",
    "# print(f\"Values below {lower_bound} could be outliers.\")\n",
    "# print(f\"Values above {upper_bound} could be outliers.\")\n",
    "\n",
    "# outlier_occupancy = california_data.loc[(california_data['AveOccup'] < lower_bound) | (california_data['AveOccup'] > upper_bound)]\n",
    "# outlier_occupancy"
   ]
  },
  {
   "cell_type": "code",
   "execution_count": null,
   "metadata": {},
   "outputs": [],
   "source": [
    "# # Retrieve the columns specified\n",
    "# extract_columns=purchase_data[['Item ID', 'Item Name', 'Price']]\n",
    "\n",
    "# # Group by the columns specified\n",
    "# grouped_id_name = extract_columns.groupby([\"Item ID\", \"Item Name\"])\n",
    "\n",
    "# # Calculate respective to the grouped columns\n",
    "# purchase_count=grouped_id_name[\"Item Name\"].count()\n",
    "# total_purchase_value=grouped_id_name[\"Price\"].sum()\n",
    "# item_price=total_purchase_value/purchase_count\n",
    "\n",
    "# # Create and format Data Frame\n",
    "# most_popular_df=pd.DataFrame({\n",
    "#     \"Purchase Count\": purchase_count, \n",
    "#     \"Item Price\":item_price,\n",
    "#     \"Total Purchase Value\": total_purchase_value})\n",
    "\n",
    "# top_5_popular=most_popular_df.sort_values([\"Purchase Count\"], ascending = False).head()\n",
    "\n",
    "# top_5_popular.style.format({\"Item Price\":\"${:.2f}\",\n",
    "#                                            \"Total Purchase Value\":\"${:.2f}\"})"
   ]
  },
  {
   "cell_type": "code",
   "execution_count": null,
   "metadata": {},
   "outputs": [],
   "source": []
  },
  {
   "cell_type": "code",
   "execution_count": null,
   "metadata": {},
   "outputs": [],
   "source": [
    "# Put treatments into a list for for loop (and later for plot labels)\n",
    "\n",
    "\n",
    "# treatments = ['Capomulin', 'Ramicane', 'Infubinol', 'Ceftamin']\n",
    "# # Create empty list to fill with tumor vol data (for plotting)\n",
    "\n",
    "# tumor_vol=[]\n",
    "\n",
    "\n",
    "# for treatment in treatments:\n",
    "#     quartiles = pd_merge[\"Tumor Volume (mm3)\"].quantile([.25,.5,.75]).round(2)\n",
    "#     lowerq = quartiles[0.25].round(2)\n",
    "#     upperq = quartiles[0.75].round(2)\n",
    "#     iqr = round(upperq-lowerq,2)\n",
    "#     lower_bound = round(lowerq - (1.5*iqr),2)\n",
    "#     upper_bound = round(upperq + (1.5*iqr),2)\n",
    "    \n",
    "# # Calculate the IQR and quantitatively determine if there are any potential outliers. \n",
    "\n",
    "    \n",
    "#     # Locate the rows which contain mice on each drug and get the tumor volumes\n",
    "    \n",
    "    \n",
    "#     # add subset \n",
    "    \n",
    "    \n",
    "#     # Determine outliers using upper and lower bounds\n",
    "    \n",
    "\n",
    "\n",
    "#     if counter == 0:\n",
    "    \n",
    "#         print(f\"{treatment} IQR data is:\")\n",
    "#         print(f\"The lower quartile of {treatment} is: {lowerq}\")\n",
    "#         print(f\"The upper quartile of {treatment} is: {upperq}\")\n",
    "#         print(f\"The interquartile range of {treatment} is: {iqr}\")\n",
    "#         print(f\"The the median of {treatment} is: {quartiles[0.5]} \")\n",
    "#         print(f\"Values below {lower_bound} for {treatment} could be outliers.\")\n",
    "#         print(f\"Values above {upper_bound} for {treatment} could be outliers.\")\n",
    "        \n",
    "#     counter += 1"
   ]
  },
  {
   "cell_type": "code",
   "execution_count": null,
   "metadata": {},
   "outputs": [],
   "source": []
  },
  {
   "cell_type": "code",
   "execution_count": null,
   "metadata": {},
   "outputs": [],
   "source": [
    "# Generate a box plot of the final tumor volume of each mouse across four regimens of interest\n"
   ]
  },
  {
   "cell_type": "markdown",
   "metadata": {},
   "source": [
    "## Line and Scatter Plots"
   ]
  },
  {
   "cell_type": "code",
   "execution_count": null,
   "metadata": {},
   "outputs": [],
   "source": [
    "# Generate a line plot of time point versus tumor volume for a mouse treated with Capomulin\n",
    "capomulin_df = combined_data.loc[combined_data[\"Drug Regimen\"]== \"Capomulin\",:]\n",
    "capomulin_df"
   ]
  },
  {
   "cell_type": "code",
   "execution_count": null,
   "metadata": {},
   "outputs": [],
   "source": [
    "unique_mouse_df = capomulin_df.loc[capomulin_df[\"Mouse ID\"] == \"s185\",:]\n",
    "unique_mouse_df"
   ]
  },
  {
   "cell_type": "code",
   "execution_count": null,
   "metadata": {},
   "outputs": [],
   "source": [
    "# x_axis = unique_mouse_df[\"Timepoint\"]\n",
    "# x_axis\n",
    "x_axis = np.arange(0, 100, 10)\n",
    "# x_axis\n",
    "tumor_vol = unique_mouse_df[\"Tumor Volume (mm3)\"]\n",
    "# tumor_vol\n",
    "plt.plot(x_axis, tumor_vol,linewidth=2, markersize=10,marker=\"o\",color=\"blue\")\n",
    "plt.title('Treatmeant of Mouse s185',fontsize =15)\n",
    "plt.xlabel('Timepoint',fontsize =10)\n",
    "plt.ylabel('Tumor Volume (mm3)',fontsize =10)\n",
    "plt.grid()"
   ]
  },
  {
   "cell_type": "code",
   "execution_count": null,
   "metadata": {},
   "outputs": [],
   "source": []
  },
  {
   "cell_type": "code",
   "execution_count": null,
   "metadata": {},
   "outputs": [],
   "source": [
    "# Generate a scatter plot of mouse weight versus average tumor volume for the Capomulin regimen\n",
    "avg_mouse_cap=capomulin_df.groupby(['Mouse ID']).mean()\n",
    "# avg_mouse_cap\n",
    "avg_tum_vol=avg_mouse_cap['Tumor Volume (mm3)']\n",
    "# avg_tum_vol\n",
    "avg_weight_vol=avg_mouse_cap['Weight (g)']\n",
    "# avg_weight_vol\n",
    "plt.scatter(avg_weight_vol, avg_tum_vol, marker=\"o\", facecolors=\"blue\", edgecolors=\"black\")\n",
    "plt.title('Average Mouse Weight vs Average Tumor Volume',fontsize =15)\n",
    "plt.xlabel('Weight (g)',fontsize =10)\n",
    "plt.ylabel('Averag Tumor Volume (mm3)',fontsize =10)"
   ]
  },
  {
   "cell_type": "code",
   "execution_count": null,
   "metadata": {},
   "outputs": [],
   "source": []
  },
  {
   "cell_type": "markdown",
   "metadata": {},
   "source": [
    "## Correlation and Regression"
   ]
  },
  {
   "cell_type": "code",
   "execution_count": null,
   "metadata": {},
   "outputs": [],
   "source": [
    "# Calculate the correlation coefficient and linear regression model \n",
    "# for mouse weight and average tumor volume for the Capomulin regimen\n",
    "\n",
    "correlation = st.pearsonr(avg_weight_vol,avg_tum_vol)\n",
    "print(f\"The correlation between both factors is {round(correlation[0],2)}\")"
   ]
  },
  {
   "cell_type": "code",
   "execution_count": null,
   "metadata": {},
   "outputs": [],
   "source": [
    "y_values=avg_mouse_cap['Tumor Volume (mm3)']\n",
    "x_values=avg_mouse_cap['Weight (g)']\n",
    "(slope, intercept, rvalue, pvalue, stderr) = linregress(x_values, y_values)\n",
    "regress_values = x_values * slope + intercept\n",
    "line_eq = \"y = \" + str(round(slope,2)) + \"x + \" + str(round(intercept,2))\n",
    "plt.scatter(x_values,y_values)\n",
    "plt.plot(x_values,regress_values,\"r-\")\n",
    "plt.annotate(line_eq,(20,30),fontsize=15,color=\"red\")\n",
    "plt.xlabel('Weight (g)', fontsize =10)\n",
    "plt.ylabel('Averag Tumor Volume (mm3)', fontsize =10)\n",
    "plt.title('Regression of Average Mouse Weight vs Average Tumor Volume',fontsize =13)\n",
    "print(f\"The r-squared is: {rvalue**2}\")\n",
    "plt.show()"
   ]
  },
  {
   "cell_type": "code",
   "execution_count": null,
   "metadata": {},
   "outputs": [],
   "source": [
    "# plt.scatter(x_values,y_values)\n",
    "# plt.plot(x_values,regress_values,\"r-\")\n",
    "# plt.annotate(line_eq,(20,30),fontsize=15,color=\"red\")\n",
    "# plt.xlabel('Weight (g)', fontsize =10)\n",
    "# plt.ylabel('Averag Tumor Volume (mm3)', fontsize =10)\n",
    "# plt.title('Regression of Average Mouse Weight vs Average Tumor Volume',fontsize =13)\n",
    "# print(f\"The r-squared is: {rvalue**2}\")\n",
    "# plt.show()"
   ]
  },
  {
   "cell_type": "code",
   "execution_count": null,
   "metadata": {},
   "outputs": [],
   "source": []
  }
 ],
 "metadata": {
  "anaconda-cloud": {},
  "kernelspec": {
   "display_name": "Python 3",
   "language": "python",
   "name": "python3"
  },
  "language_info": {
   "codemirror_mode": {
    "name": "ipython",
    "version": 3
   },
   "file_extension": ".py",
   "mimetype": "text/x-python",
   "name": "python",
   "nbconvert_exporter": "python",
   "pygments_lexer": "ipython3",
   "version": "3.8.3"
  }
 },
 "nbformat": 4,
 "nbformat_minor": 2
}
