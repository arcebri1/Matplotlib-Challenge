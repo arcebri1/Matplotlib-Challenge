{
 "cells": [
  {
   "cell_type": "markdown",
   "metadata": {},
   "source": [
    "# Data Analysis Observations\n",
    "# 1. The two drug regimens that seem to have made a positive effect in the treatment of the tumor on mice had a very similar average of the total tumor volume. Capomulin being at 40.68 and Ramicane being at 40.22.\n",
    "# 2. There was more mice for the two drug regimens: Capomulin and Ramicane that seemed most effective. \n",
    "# 3. The total count of mice per gender was almost 50/50. 124 female mice and 125 male mice.\n",
    "# 4. Infubinol seemed to be the only one with an outlier.\n",
    "# 5. The longer in treatment the smaller the tumor volume.\n",
    "# 6. Mouse weight correlated strongly with average tumor volume.\n"
   ]
  },
  {
   "cell_type": "code",
   "execution_count": 1,
   "metadata": {},
   "outputs": [
    {
     "data": {
      "text/html": [
       "<div>\n",
       "<style scoped>\n",
       "    .dataframe tbody tr th:only-of-type {\n",
       "        vertical-align: middle;\n",
       "    }\n",
       "\n",
       "    .dataframe tbody tr th {\n",
       "        vertical-align: top;\n",
       "    }\n",
       "\n",
       "    .dataframe thead th {\n",
       "        text-align: right;\n",
       "    }\n",
       "</style>\n",
       "<table border=\"1\" class=\"dataframe\">\n",
       "  <thead>\n",
       "    <tr style=\"text-align: right;\">\n",
       "      <th></th>\n",
       "      <th>Mouse ID</th>\n",
       "      <th>Drug Regimen</th>\n",
       "      <th>Sex</th>\n",
       "      <th>Age_months</th>\n",
       "      <th>Weight (g)</th>\n",
       "      <th>Timepoint</th>\n",
       "      <th>Tumor Volume (mm3)</th>\n",
       "      <th>Metastatic Sites</th>\n",
       "    </tr>\n",
       "  </thead>\n",
       "  <tbody>\n",
       "    <tr>\n",
       "      <th>0</th>\n",
       "      <td>k403</td>\n",
       "      <td>Ramicane</td>\n",
       "      <td>Male</td>\n",
       "      <td>21</td>\n",
       "      <td>16</td>\n",
       "      <td>0</td>\n",
       "      <td>45.000000</td>\n",
       "      <td>0</td>\n",
       "    </tr>\n",
       "    <tr>\n",
       "      <th>1</th>\n",
       "      <td>k403</td>\n",
       "      <td>Ramicane</td>\n",
       "      <td>Male</td>\n",
       "      <td>21</td>\n",
       "      <td>16</td>\n",
       "      <td>5</td>\n",
       "      <td>38.825898</td>\n",
       "      <td>0</td>\n",
       "    </tr>\n",
       "    <tr>\n",
       "      <th>2</th>\n",
       "      <td>k403</td>\n",
       "      <td>Ramicane</td>\n",
       "      <td>Male</td>\n",
       "      <td>21</td>\n",
       "      <td>16</td>\n",
       "      <td>10</td>\n",
       "      <td>35.014271</td>\n",
       "      <td>1</td>\n",
       "    </tr>\n",
       "    <tr>\n",
       "      <th>3</th>\n",
       "      <td>k403</td>\n",
       "      <td>Ramicane</td>\n",
       "      <td>Male</td>\n",
       "      <td>21</td>\n",
       "      <td>16</td>\n",
       "      <td>15</td>\n",
       "      <td>34.223992</td>\n",
       "      <td>1</td>\n",
       "    </tr>\n",
       "    <tr>\n",
       "      <th>4</th>\n",
       "      <td>k403</td>\n",
       "      <td>Ramicane</td>\n",
       "      <td>Male</td>\n",
       "      <td>21</td>\n",
       "      <td>16</td>\n",
       "      <td>20</td>\n",
       "      <td>32.997729</td>\n",
       "      <td>1</td>\n",
       "    </tr>\n",
       "  </tbody>\n",
       "</table>\n",
       "</div>"
      ],
      "text/plain": [
       "  Mouse ID Drug Regimen   Sex  Age_months  Weight (g)  Timepoint  \\\n",
       "0     k403     Ramicane  Male          21          16          0   \n",
       "1     k403     Ramicane  Male          21          16          5   \n",
       "2     k403     Ramicane  Male          21          16         10   \n",
       "3     k403     Ramicane  Male          21          16         15   \n",
       "4     k403     Ramicane  Male          21          16         20   \n",
       "\n",
       "   Tumor Volume (mm3)  Metastatic Sites  \n",
       "0           45.000000                 0  \n",
       "1           38.825898                 0  \n",
       "2           35.014271                 1  \n",
       "3           34.223992                 1  \n",
       "4           32.997729                 1  "
      ]
     },
     "execution_count": 1,
     "metadata": {},
     "output_type": "execute_result"
    }
   ],
   "source": [
    "# Import dDependencies \n",
    "import matplotlib.pyplot as plt\n",
    "import pandas as pd\n",
    "import scipy.stats as st\n",
    "import numpy as np\n",
    "from scipy.stats import linregress\n",
    "\n",
    "# Get the path to the data files\n",
    "mouse_metadata_path = \"data/Mouse_metadata.csv\"\n",
    "study_results_path = \"data/Study_results.csv\"\n",
    "\n",
    "# Read the mouse data files\n",
    "mouse_metadata = pd.read_csv(mouse_metadata_path)\n",
    "study_results = pd.read_csv(study_results_path)\n",
    "\n",
    "# Combine the data into a single dataset\n",
    "combined_data=pd.merge(mouse_metadata,study_results,on=\"Mouse ID\", how=\"outer\")\n",
    "\n",
    "# Display the data table for preview\n",
    "combined_data.head()"
   ]
  },
  {
   "cell_type": "code",
   "execution_count": 2,
   "metadata": {},
   "outputs": [],
   "source": [
    "#Check the number of mice. Want to do unique so you do not get the duplicates\n",
    "number_unique_mice=len(combined_data['Mouse ID'].unique())"
   ]
  },
  {
   "cell_type": "code",
   "execution_count": 3,
   "metadata": {},
   "outputs": [],
   "source": [
    "# Getting the duplicate mice by ID number that shows up for Mouse ID and Timepoint \n",
    "duplicate_mice = combined_data.loc[combined_data.duplicated(subset=[\"Mouse ID\", \"Timepoint\"]),'Mouse ID'].unique()"
   ]
  },
  {
   "cell_type": "code",
   "execution_count": 4,
   "metadata": {},
   "outputs": [],
   "source": [
    "# Clean the data by removing the duplicates of mice\n",
    "clean_df = combined_data[combined_data['Mouse ID'].isin(duplicate_mice)==False]"
   ]
  },
  {
   "cell_type": "code",
   "execution_count": 5,
   "metadata": {},
   "outputs": [],
   "source": [
    "#Check the number of mice after dropping the duplicate\n",
    "len_dropped_data=len(clean_df[\"Mouse ID\"].unique())"
   ]
  },
  {
   "cell_type": "markdown",
   "metadata": {},
   "source": [
    "## Summary Statistics"
   ]
  },
  {
   "cell_type": "code",
   "execution_count": 6,
   "metadata": {},
   "outputs": [
    {
     "data": {
      "text/html": [
       "<div>\n",
       "<style scoped>\n",
       "    .dataframe tbody tr th:only-of-type {\n",
       "        vertical-align: middle;\n",
       "    }\n",
       "\n",
       "    .dataframe tbody tr th {\n",
       "        vertical-align: top;\n",
       "    }\n",
       "\n",
       "    .dataframe thead th {\n",
       "        text-align: right;\n",
       "    }\n",
       "</style>\n",
       "<table border=\"1\" class=\"dataframe\">\n",
       "  <thead>\n",
       "    <tr style=\"text-align: right;\">\n",
       "      <th></th>\n",
       "      <th>Mean</th>\n",
       "      <th>Median</th>\n",
       "      <th>Variance</th>\n",
       "      <th>Standard Deviation</th>\n",
       "      <th>SEM</th>\n",
       "    </tr>\n",
       "    <tr>\n",
       "      <th>Drug Regimen</th>\n",
       "      <th></th>\n",
       "      <th></th>\n",
       "      <th></th>\n",
       "      <th></th>\n",
       "      <th></th>\n",
       "    </tr>\n",
       "  </thead>\n",
       "  <tbody>\n",
       "    <tr>\n",
       "      <th>Capomulin</th>\n",
       "      <td>40.675741</td>\n",
       "      <td>41.557809</td>\n",
       "      <td>24.947764</td>\n",
       "      <td>4.994774</td>\n",
       "      <td>0.329346</td>\n",
       "    </tr>\n",
       "    <tr>\n",
       "      <th>Ceftamin</th>\n",
       "      <td>52.591172</td>\n",
       "      <td>51.776157</td>\n",
       "      <td>39.290177</td>\n",
       "      <td>6.268188</td>\n",
       "      <td>0.469821</td>\n",
       "    </tr>\n",
       "    <tr>\n",
       "      <th>Infubinol</th>\n",
       "      <td>52.884795</td>\n",
       "      <td>51.820584</td>\n",
       "      <td>43.128684</td>\n",
       "      <td>6.567243</td>\n",
       "      <td>0.492236</td>\n",
       "    </tr>\n",
       "    <tr>\n",
       "      <th>Ketapril</th>\n",
       "      <td>55.235638</td>\n",
       "      <td>53.698743</td>\n",
       "      <td>68.553577</td>\n",
       "      <td>8.279709</td>\n",
       "      <td>0.603860</td>\n",
       "    </tr>\n",
       "    <tr>\n",
       "      <th>Naftisol</th>\n",
       "      <td>54.331565</td>\n",
       "      <td>52.509285</td>\n",
       "      <td>66.173479</td>\n",
       "      <td>8.134708</td>\n",
       "      <td>0.596466</td>\n",
       "    </tr>\n",
       "    <tr>\n",
       "      <th>Placebo</th>\n",
       "      <td>54.033581</td>\n",
       "      <td>52.288934</td>\n",
       "      <td>61.168083</td>\n",
       "      <td>7.821003</td>\n",
       "      <td>0.581331</td>\n",
       "    </tr>\n",
       "    <tr>\n",
       "      <th>Propriva</th>\n",
       "      <td>52.320930</td>\n",
       "      <td>50.446266</td>\n",
       "      <td>43.852013</td>\n",
       "      <td>6.622085</td>\n",
       "      <td>0.544332</td>\n",
       "    </tr>\n",
       "    <tr>\n",
       "      <th>Ramicane</th>\n",
       "      <td>40.216745</td>\n",
       "      <td>40.673236</td>\n",
       "      <td>23.486704</td>\n",
       "      <td>4.846308</td>\n",
       "      <td>0.320955</td>\n",
       "    </tr>\n",
       "    <tr>\n",
       "      <th>Stelasyn</th>\n",
       "      <td>54.233149</td>\n",
       "      <td>52.431737</td>\n",
       "      <td>59.450562</td>\n",
       "      <td>7.710419</td>\n",
       "      <td>0.573111</td>\n",
       "    </tr>\n",
       "    <tr>\n",
       "      <th>Zoniferol</th>\n",
       "      <td>53.236507</td>\n",
       "      <td>51.818479</td>\n",
       "      <td>48.533355</td>\n",
       "      <td>6.966589</td>\n",
       "      <td>0.516398</td>\n",
       "    </tr>\n",
       "  </tbody>\n",
       "</table>\n",
       "</div>"
      ],
      "text/plain": [
       "                   Mean     Median   Variance  Standard Deviation       SEM\n",
       "Drug Regimen                                                               \n",
       "Capomulin     40.675741  41.557809  24.947764            4.994774  0.329346\n",
       "Ceftamin      52.591172  51.776157  39.290177            6.268188  0.469821\n",
       "Infubinol     52.884795  51.820584  43.128684            6.567243  0.492236\n",
       "Ketapril      55.235638  53.698743  68.553577            8.279709  0.603860\n",
       "Naftisol      54.331565  52.509285  66.173479            8.134708  0.596466\n",
       "Placebo       54.033581  52.288934  61.168083            7.821003  0.581331\n",
       "Propriva      52.320930  50.446266  43.852013            6.622085  0.544332\n",
       "Ramicane      40.216745  40.673236  23.486704            4.846308  0.320955\n",
       "Stelasyn      54.233149  52.431737  59.450562            7.710419  0.573111\n",
       "Zoniferol     53.236507  51.818479  48.533355            6.966589  0.516398"
      ]
     },
     "execution_count": 6,
     "metadata": {},
     "output_type": "execute_result"
    }
   ],
   "source": [
    "# Generate a summary statistics table of mean, median, variance, standard deviation, and SEM of the tumor volume for each regimen\n",
    "#Do a groupby to get the statistical values of the tumor volume for each drug regimen\n",
    "\n",
    "regime_group=clean_df.groupby('Drug Regimen')\n",
    "\n",
    "regimen_mean=regime_group[\"Tumor Volume (mm3)\"].mean()\n",
    "# print(regimen_mean)\n",
    "regimen_median=regime_group[\"Tumor Volume (mm3)\"].median()\n",
    "# print(regimen_median)\n",
    "regimen_variance=regime_group[\"Tumor Volume (mm3)\"].var()\n",
    "# print(regimen_variance)\n",
    "regimen_std_dev=regime_group[\"Tumor Volume (mm3)\"].std()\n",
    "# print(regimen_std_dev)\n",
    "regimen_sem=regime_group[\"Tumor Volume (mm3)\"].sem()\n",
    "# print(regimen_sem)\n",
    "\n",
    "#Create the Data Frame and display it\n",
    "summary_statistics_df=pd.DataFrame({\n",
    "    \"Mean\": regimen_mean, \n",
    "    \"Median\":regimen_median,\n",
    "    \"Variance\": regimen_variance, \n",
    "    \"Standard Deviation\":regimen_std_dev, \"SEM\": regimen_sem })\n",
    "summary_statistics_df"
   ]
  },
  {
   "cell_type": "markdown",
   "metadata": {},
   "source": [
    "## Bar and Pie Charts"
   ]
  },
  {
   "cell_type": "code",
   "execution_count": 7,
   "metadata": {},
   "outputs": [],
   "source": [
    "# Generate a bar plot showing the total number of mice for each treatment throughout the course of the study using pandas. \n",
    "#Use groupby to filter by the drug regimen group to find the total amount of mice per treatment\n",
    "combined_group=combined_data.groupby('Drug Regimen')\n",
    "count_makers = combined_group['Mouse ID'].count()"
   ]
  },
  {
   "cell_type": "code",
   "execution_count": 8,
   "metadata": {},
   "outputs": [
    {
     "data": {
      "image/png": "[encoded data removed]",
      "text/plain": [
       "<Figure size 864x432 with 1 Axes>"
      ]
     },
     "metadata": {
      "needs_background": "light"
     },
     "output_type": "display_data"
    }
   ],
   "source": [
    "#Plot the bar plot for the total number of mice for each treatment throughout the course using pandas. Make sure to label it. \n",
    "bar_pandas=count_makers.plot(kind=\"bar\", figsize=(12,6), color='b')\n",
    "bar_pandas.set_ylabel(\"Number of Mice\")\n",
    "plt.title(\"Total Number of Mice per Treatment\")\n",
    "plt.tight_layout()\n",
    "plt.show()"
   ]
  },
  {
   "cell_type": "code",
   "execution_count": 9,
   "metadata": {},
   "outputs": [],
   "source": [
    "# number_of_mice = [Capomulin, Ceftamin, Infubinol, Ketapril, Naftisol, Placebo, Propriva, Ramicane, Stelasyn, Zoniferol]\n",
    "x_axis = np.arange(len(count_makers))\n",
    "\n",
    "tick_locations = [value for value in x_axis]"
   ]
  },
  {
   "cell_type": "code",
   "execution_count": 10,
   "metadata": {},
   "outputs": [
    {
     "data": {
      "image/png": "[encoded data removed]",
      "text/plain": [
       "<Figure size 864x432 with 1 Axes>"
      ]
     },
     "metadata": {
      "needs_background": "light"
     },
     "output_type": "display_data"
    }
   ],
   "source": [
    "plt.figure(figsize=(12,6))\n",
    "plt.bar(x_axis, count_makers, color='b', alpha=.80, align=\"center\")\n",
    "plt.xticks(tick_locations, ['Capomulin', \n",
    "                            'Ceftamin', 'Infubinol', 'Ketapril', \n",
    "                            'Naftisol', 'Placebo', 'Propriva', \n",
    "                            'Ramicane', 'Stelasyn', 'Zoniferol'] , rotation=\"vertical\")\n",
    "plt.xlim(-.75, len(x_axis)-.25)\n",
    "plt.ylim(0, max(count_makers)+10)\n",
    "# Set a Title and labels\n",
    "plt.title(\"Total Number of Mice per Treatment\")\n",
    "plt.xlabel(\"Drug Regimen\")\n",
    "plt.ylabel(\"Number of Mice\")\n",
    "# # Save our graph and show the grap\n",
    "plt.tight_layout()\n",
    "# plt.savefig(\"../Images/avg_state_rain.png\")\n",
    "plt.show()"
   ]
  },
  {
   "cell_type": "code",
   "execution_count": 11,
   "metadata": {},
   "outputs": [],
   "source": [
    "# Generate a pie plot showing the distribution of female versus male mice using pandas.\n",
    "# Group by gender (sex) and find unique to find the total number of male and female mice\n",
    "gender_group = combined_data.groupby(\"Sex\")\n",
    "unique_gender_count = gender_group.nunique()[\"Mouse ID\"]"
   ]
  },
  {
   "cell_type": "code",
   "execution_count": 12,
   "metadata": {},
   "outputs": [],
   "source": [
    "total_mice=len(combined_data['Mouse ID'].unique())"
   ]
  },
  {
   "cell_type": "code",
   "execution_count": 13,
   "metadata": {},
   "outputs": [],
   "source": [
    "gender_percent=(unique_gender_count/total_mice)*100"
   ]
  },
  {
   "cell_type": "code",
   "execution_count": 14,
   "metadata": {},
   "outputs": [
    {
     "data": {
      "text/html": [
       "<style  type=\"text/css\" >\n",
       "</style><table id=\"T_d612758b_fd68_11ea_a906_b05cda398ec3\" ><thead>    <tr>        <th class=\"blank level0\" ></th>        <th class=\"col_heading level0 col0\" >Total Count</th>        <th class=\"col_heading level0 col1\" >Percentage of Gender</th>    </tr>    <tr>        <th class=\"index_name level0\" >Sex</th>        <th class=\"blank\" ></th>        <th class=\"blank\" ></th>    </tr></thead><tbody>\n",
       "                <tr>\n",
       "                        <th id=\"T_d612758b_fd68_11ea_a906_b05cda398ec3level0_row0\" class=\"row_heading level0 row0\" >Male</th>\n",
       "                        <td id=\"T_d612758b_fd68_11ea_a906_b05cda398ec3row0_col0\" class=\"data row0 col0\" >125</td>\n",
       "                        <td id=\"T_d612758b_fd68_11ea_a906_b05cda398ec3row0_col1\" class=\"data row0 col1\" >50.20%</td>\n",
       "            </tr>\n",
       "            <tr>\n",
       "                        <th id=\"T_d612758b_fd68_11ea_a906_b05cda398ec3level0_row1\" class=\"row_heading level0 row1\" >Female</th>\n",
       "                        <td id=\"T_d612758b_fd68_11ea_a906_b05cda398ec3row1_col0\" class=\"data row1 col0\" >124</td>\n",
       "                        <td id=\"T_d612758b_fd68_11ea_a906_b05cda398ec3row1_col1\" class=\"data row1 col1\" >49.80%</td>\n",
       "            </tr>\n",
       "    </tbody></table>"
      ],
      "text/plain": [
       "<pandas.io.formats.style.Styler at 0x23a2a393460>"
      ]
     },
     "execution_count": 14,
     "metadata": {},
     "output_type": "execute_result"
    }
   ],
   "source": [
    "gender_df=pd.DataFrame({\"Total Count\": unique_gender_count, \"Percentage of Gender\":gender_percent})\n",
    "gender_df.sort_values([\"Total Count\"], ascending = False).style.format({\"Percentage of Gender\":\"{:.2f}%\"})"
   ]
  },
  {
   "cell_type": "code",
   "execution_count": 15,
   "metadata": {
    "scrolled": true
   },
   "outputs": [
    {
     "data": {
      "image/png": "[encoded data removed]",
      "text/plain": [
       "<Figure size 360x360 with 1 Axes>"
      ]
     },
     "metadata": {},
     "output_type": "display_data"
    }
   ],
   "source": [
    "#Plot the pie chart using pandas\n",
    "colors = ['red', 'blue']\n",
    "explode = (0.1, 0)\n",
    "gender_plot=gender_df.plot.pie(y= 'Total Count',figsize=(5,5), colors = colors, startangle=140, explode = explode, shadow = True, autopct=\"%1.1f%%\")\n",
    "plt.axis(\"equal\")\n",
    "plt.title('Female vs Male Mice',fontsize = 20)\n",
    "plt.ylabel('Sex',fontsize = 15)\n",
    "plt.tight_layout()\n",
    "plt.legend(loc='upper center', bbox_to_anchor=(1.45, 0.8), shadow=True, ncol=1)\n",
    "plt.show()"
   ]
  },
  {
   "cell_type": "code",
   "execution_count": 16,
   "metadata": {},
   "outputs": [],
   "source": [
    "# Generate a pie plot showing the distribution of female versus male mice using pyplot\n",
    "#Create the lists of the values to create the pie plot\n",
    "gender=['Female', 'Male']\n",
    "percent = [49.8, 50.2]\n",
    "colors = ['red', 'blue']\n",
    "explode = (0.1,0)"
   ]
  },
  {
   "cell_type": "code",
   "execution_count": 17,
   "metadata": {},
   "outputs": [
    {
     "data": {
      "image/png": "[encoded data removed]",
      "text/plain": [
       "<Figure size 360x360 with 1 Axes>"
      ]
     },
     "metadata": {},
     "output_type": "display_data"
    }
   ],
   "source": [
    "#Plot the pie chart\n",
    "plt.pie(percent, explode=explode, labels=gender, colors=colors,\n",
    "        autopct=\"%1.1f%%\", shadow=True, startangle=140, )\n",
    "plt.axis(\"equal\")\n",
    "fig = plt.gcf()\n",
    "fig.set_size_inches(5,5)\n",
    "plt.title('Female vs Male Mice',fontsize = 20)\n",
    "plt.ylabel('Sex',fontsize = 15)\n",
    "plt.tight_layout()\n",
    "plt.legend(loc='upper center', bbox_to_anchor=(1.45, 0.8), shadow=True, ncol=1)\n",
    "plt.show()"
   ]
  },
  {
   "cell_type": "markdown",
   "metadata": {},
   "source": [
    "## Quartiles, Outliers and Boxplots "
   ]
  },
  {
   "cell_type": "code",
   "execution_count": 18,
   "metadata": {},
   "outputs": [],
   "source": [
    "# Calculate the final tumor volume of each mouse across four of the treatment regimens: Capomulin, Ramicane, Infubinol, and Ceftamin\n",
    "# Start by getting the last (greatest) timepoint for each mouse\n",
    "#First we will use loc to filter through the data set by the treatments\n",
    "regimen_cap=combined_data.loc[combined_data['Drug Regimen']==\"Capomulin\",:]\n",
    "regimen_ram=combined_data.loc[combined_data['Drug Regimen']==\"Ramicane\",:]\n",
    "regimen_inf=combined_data.loc[combined_data['Drug Regimen']==\"Infubinol\",:]\n",
    "regimen_cef=combined_data.loc[combined_data['Drug Regimen']==\"Ceftamin\",:]\n"
   ]
  },
  {
   "cell_type": "code",
   "execution_count": 19,
   "metadata": {},
   "outputs": [
    {
     "name": "stdout",
     "output_type": "stream",
     "text": [
      "The lower quartile of Capomulin tumor volume is: 32.37735684\n",
      "The upper quartile of Capomulin tumor volume is: 40.1592203\n",
      "The interquartile range of Capomulin tumor volume is: 7.781863460000004\n",
      "The median of Capomulin tumor value is: 38.125164399999996 \n",
      "Values below 20.70456164999999 could be outliers.\n",
      "Values above 51.83201549 could be outliers.\n"
     ]
    }
   ],
   "source": [
    "#Group by the Mouse ID to be able to obtain the max of the timepoint of each sepific treatment \n",
    "group_capo=regimen_cap.groupby('Mouse ID')\n",
    "last_vol_cap=group_capo['Timepoint'].max()\n",
    "\n",
    "#Create your Data Frame of the max value\n",
    "cap_tum_vol_df=pd.DataFrame(last_vol_cap)\n",
    "\n",
    "#Merge the new data drame by the previous data set on Mouse ID and Timepoint and to get all the date of the Mouse ID since we want the treatment for each mice\n",
    "cap_merge = pd.merge(cap_tum_vol_df, combined_data, on=('Mouse ID','Timepoint'), how='left')\n",
    "\n",
    "#Use the new data frame to get the final total tumor volume for the specific treatment\n",
    "cap_tum_vol=cap_merge['Tumor Volume (mm3)']\n",
    "\n",
    "#Calculate the lower and upper quartile, interquartile and median. Then print out.\n",
    "quartiles = cap_tum_vol.quantile([.25,.5,.75])\n",
    "lowerq = quartiles[0.25]\n",
    "upperq = quartiles[0.75]\n",
    "iqr = upperq-lowerq\n",
    "\n",
    "print(f\"The lower quartile of Capomulin tumor volume is: {lowerq}\")\n",
    "print(f\"The upper quartile of Capomulin tumor volume is: {upperq}\")\n",
    "print(f\"The interquartile range of Capomulin tumor volume is: {iqr}\")\n",
    "print(f\"The median of Capomulin tumor value is: {quartiles[0.5]} \")\n",
    "\n",
    "lower_bound = lowerq - (1.5*iqr)\n",
    "upper_bound = upperq + (1.5*iqr)\n",
    "print(f\"Values below {lower_bound} could be outliers.\")\n",
    "print(f\"Values above {upper_bound} could be outliers.\")"
   ]
  },
  {
   "cell_type": "code",
   "execution_count": 20,
   "metadata": {},
   "outputs": [
    {
     "name": "stdout",
     "output_type": "stream",
     "text": [
      "The lower quartile of Ramicane tumor volume is: 31.56046955\n",
      "The upper quartile of Ramicane tumor volume is: 40.65900627\n",
      "The interquartile range of Ramicane tumor volume is: 9.098536719999998\n",
      "The median of Ramicane tumor volume is: 36.56165229 \n",
      "Values below 17.912664470000003 could be outliers.\n",
      "Values above 54.30681135 could be outliers.\n"
     ]
    }
   ],
   "source": [
    "#Group by the Mouse ID to be able to obtain the max of the timepoint of each sepific treatment \n",
    "group_ram=regimen_ram.groupby('Mouse ID')\n",
    "last_vol_ram=group_ram['Timepoint'].max()\n",
    "\n",
    "#Create your Data Frame of the max value\n",
    "ram_tum_vol_df=pd.DataFrame(last_vol_ram)\n",
    "\n",
    "#Merge the new data drame by the previous data set on Mouse ID and Timepoint and to get all the date of the Mouse ID since we want the treatment for each mice\n",
    "ram_merge = pd.merge(ram_tum_vol_df, combined_data, on=('Mouse ID','Timepoint'), how='left')\n",
    "\n",
    "#Use the new data frame to get the final total tumor volume for the specific treatment\n",
    "ram_tum_vol=ram_merge['Tumor Volume (mm3)']\n",
    "\n",
    "#Calculate the lower and upper quartile, interquartile and median. Then print out.\n",
    "quartiles = ram_tum_vol.quantile([.25,.5,.75])\n",
    "lowerq = quartiles[0.25]\n",
    "upperq = quartiles[0.75]\n",
    "iqr = upperq-lowerq\n",
    "\n",
    "print(f\"The lower quartile of Ramicane tumor volume is: {lowerq}\")\n",
    "print(f\"The upper quartile of Ramicane tumor volume is: {upperq}\")\n",
    "print(f\"The interquartile range of Ramicane tumor volume is: {iqr}\")\n",
    "print(f\"The median of Ramicane tumor volume is: {quartiles[0.5]} \")\n",
    "\n",
    "lower_bound = lowerq - (1.5*iqr)\n",
    "upper_bound = upperq + (1.5*iqr)\n",
    "print(f\"Values below {lower_bound} could be outliers.\")\n",
    "print(f\"Values above {upper_bound} could be outliers.\")"
   ]
  },
  {
   "cell_type": "code",
   "execution_count": 21,
   "metadata": {},
   "outputs": [
    {
     "name": "stdout",
     "output_type": "stream",
     "text": [
      "The lower quartile of Infubinol tumor volume is: 54.04860769\n",
      "The upper quartile of Infubinol tumor volume is: 65.52574285\n",
      "The interquartile range of Infubinol tumor volume is: 11.477135160000003\n",
      "The median of Infubinol tumor volume is: 60.16518046 \n",
      "Values below 36.83290494999999 could be outliers.\n",
      "Values above 82.74144559000001 could be outliers.\n"
     ]
    }
   ],
   "source": [
    "#Repeat the same process as above\n",
    "group_inf=regimen_inf.groupby('Mouse ID')\n",
    "last_vol_inf=group_inf['Timepoint'].max()\n",
    "\n",
    "inf_tum_vol_df=pd.DataFrame(last_vol_inf)\n",
    "\n",
    "inf_merge = pd.merge(inf_tum_vol_df, combined_data, on=('Mouse ID','Timepoint'), how='left')\n",
    "\n",
    "inf_tum_vol=inf_merge['Tumor Volume (mm3)']\n",
    "\n",
    "quartiles = inf_tum_vol.quantile([.25,.5,.75])\n",
    "lowerq = quartiles[0.25]\n",
    "upperq = quartiles[0.75]\n",
    "iqr = upperq-lowerq\n",
    "\n",
    "print(f\"The lower quartile of Infubinol tumor volume is: {lowerq}\")\n",
    "print(f\"The upper quartile of Infubinol tumor volume is: {upperq}\")\n",
    "print(f\"The interquartile range of Infubinol tumor volume is: {iqr}\")\n",
    "print(f\"The median of Infubinol tumor volume is: {quartiles[0.5]} \")\n",
    "\n",
    "lower_bound = lowerq - (1.5*iqr)\n",
    "upper_bound = upperq + (1.5*iqr)\n",
    "print(f\"Values below {lower_bound} could be outliers.\")\n",
    "print(f\"Values above {upper_bound} could be outliers.\")"
   ]
  },
  {
   "cell_type": "code",
   "execution_count": 22,
   "metadata": {},
   "outputs": [
    {
     "name": "stdout",
     "output_type": "stream",
     "text": [
      "The lower quartile of Ceftamin tumor volume is: 48.72207785\n",
      "The upper quartile of Ceftamin tumor volume is: 64.29983003\n",
      "The interquartile range of Ceftamin tumor volume is: 15.577752179999997\n",
      "The median of Ceftamin tumor volume is: 59.85195552 \n",
      "Values below 25.355449580000002 could be outliers.\n",
      "Values above 87.66645829999999 could be outliers.\n"
     ]
    }
   ],
   "source": [
    "#Repeat the same process as above\n",
    "group_cef=regimen_cef.groupby('Mouse ID')\n",
    "last_vol_cef=group_cef['Timepoint'].max()\n",
    "\n",
    "cef_tum_vol_df=pd.DataFrame(last_vol_cef)\n",
    "\n",
    "cef_merge = pd.merge(cef_tum_vol_df, combined_data, on=('Mouse ID','Timepoint'), how='left')\n",
    "\n",
    "cef_tum_vol=cef_merge['Tumor Volume (mm3)']\n",
    "\n",
    "quartiles = cef_tum_vol.quantile([.25,.5,.75])\n",
    "lowerq = quartiles[0.25]\n",
    "upperq = quartiles[0.75]\n",
    "iqr = upperq-lowerq\n",
    "\n",
    "print(f\"The lower quartile of Ceftamin tumor volume is: {lowerq}\")\n",
    "print(f\"The upper quartile of Ceftamin tumor volume is: {upperq}\")\n",
    "print(f\"The interquartile range of Ceftamin tumor volume is: {iqr}\")\n",
    "print(f\"The median of Ceftamin tumor volume is: {quartiles[0.5]} \")\n",
    "\n",
    "lower_bound = lowerq - (1.5*iqr)\n",
    "upper_bound = upperq + (1.5*iqr)\n",
    "print(f\"Values below {lower_bound} could be outliers.\")\n",
    "print(f\"Values above {upper_bound} could be outliers.\")"
   ]
  },
  {
   "cell_type": "code",
   "execution_count": 23,
   "metadata": {},
   "outputs": [],
   "source": [
    "#Create the list of the values of each tumor volume treatment & labels\n",
    "boxplot_list=[cap_tum_vol,ram_tum_vol,inf_tum_vol,cef_tum_vol]\n",
    "labels = ['Capomulin','Ramicane','Infubinol','Ceftamin']"
   ]
  },
  {
   "cell_type": "code",
   "execution_count": 24,
   "metadata": {},
   "outputs": [
    {
     "data": {
      "image/png": "[encoded data removed]",
      "text/plain": [
       "<Figure size 432x288 with 1 Axes>"
      ]
     },
     "metadata": {
      "needs_background": "light"
     },
     "output_type": "display_data"
    }
   ],
   "source": [
    "#Plot the boxplot\n",
    "fig1, ax1 = plt.subplots()\n",
    "ax1.boxplot(boxplot_list, labels=labels, sym='blue')\n",
    "ax1.set_title('Total Tumor Volume for Capomulin, Ramicane, Infubinol, and Ceftamin')\n",
    "ax1.set_ylabel('Tumor Volume (mm3)')\n",
    "# ax1.set_xlabel('Capomulin','Ramicane','Infubinol','Ceftamin')\n",
    "plt.show()"
   ]
  },
  {
   "cell_type": "markdown",
   "metadata": {},
   "source": [
    "## Line and Scatter Plots"
   ]
  },
  {
   "cell_type": "code",
   "execution_count": 25,
   "metadata": {},
   "outputs": [],
   "source": [
    "# Generate a line plot of time point versus tumor volume for a mouse treated with Capomulin\n",
    "#Filter the data with loc to find the data of a specific mouse treated with Capomulin\n",
    "capomulin_df = combined_data.loc[combined_data[\"Drug Regimen\"]== \"Capomulin\",:]"
   ]
  },
  {
   "cell_type": "code",
   "execution_count": 26,
   "metadata": {},
   "outputs": [],
   "source": [
    "unique_mouse_df = capomulin_df.loc[capomulin_df[\"Mouse ID\"] == \"s185\",:]"
   ]
  },
  {
   "cell_type": "code",
   "execution_count": 27,
   "metadata": {},
   "outputs": [
    {
     "data": {
      "image/png": "[encoded data removed]",
      "text/plain": [
       "<Figure size 432x288 with 1 Axes>"
      ]
     },
     "metadata": {
      "needs_background": "light"
     },
     "output_type": "display_data"
    }
   ],
   "source": [
    "#Plot the line plot\n",
    "x_axis = np.arange(0, 100, 10)\n",
    "tumor_vol = unique_mouse_df[\"Tumor Volume (mm3)\"]\n",
    "plt.plot(x_axis, tumor_vol,linewidth=2, markersize=10,marker=\"o\",color=\"blue\")\n",
    "plt.title('Treatment of Mouse s185',fontsize =15)\n",
    "plt.xlabel('Timepoint',fontsize =10)\n",
    "plt.ylabel('Tumor Volume (mm3)',fontsize =10)\n",
    "plt.grid()"
   ]
  },
  {
   "cell_type": "code",
   "execution_count": 28,
   "metadata": {},
   "outputs": [
    {
     "data": {
      "text/plain": [
       "Text(0, 0.5, 'Averag Tumor Volume (mm3)')"
      ]
     },
     "execution_count": 28,
     "metadata": {},
     "output_type": "execute_result"
    },
    {
     "data": {
      "image/png": "[encoded data removed]",
      "text/plain": [
       "<Figure size 432x288 with 1 Axes>"
      ]
     },
     "metadata": {
      "needs_background": "light"
     },
     "output_type": "display_data"
    }
   ],
   "source": [
    "# Generate a scatter plot of mouse weight versus average tumor volume for the Capomulin regimen\n",
    "#Use group by calculate the average of the tumor volumen and weight for each mouse treated with Capomulin\n",
    "avg_mouse_cap=capomulin_df.groupby(['Mouse ID']).mean()\n",
    "avg_tum_vol=avg_mouse_cap['Tumor Volume (mm3)']\n",
    "avg_weight_vol=avg_mouse_cap['Weight (g)']\n",
    "#Plot the scatter plot\n",
    "plt.scatter(avg_weight_vol, avg_tum_vol, marker=\"o\", facecolors=\"blue\", edgecolors=\"black\")\n",
    "plt.title('Average Mouse Weight vs Average Tumor Volume',fontsize =15)\n",
    "plt.xlabel('Weight (g)',fontsize =10)\n",
    "plt.ylabel('Averag Tumor Volume (mm3)',fontsize =10)"
   ]
  },
  {
   "cell_type": "markdown",
   "metadata": {},
   "source": [
    "## Correlation and Regression"
   ]
  },
  {
   "cell_type": "code",
   "execution_count": 29,
   "metadata": {},
   "outputs": [
    {
     "name": "stdout",
     "output_type": "stream",
     "text": [
      "The correlation between both factors is 0.84\n"
     ]
    }
   ],
   "source": [
    "# Calculate the correlation coefficient and linear regression model \n",
    "# for mouse weight and average tumor volume for the Capomulin regimen\n",
    "#Use the correlation function. Print\n",
    "correlation = st.pearsonr(avg_weight_vol,avg_tum_vol)\n",
    "print(f\"The correlation between both factors is {round(correlation[0],2)}\")"
   ]
  },
  {
   "cell_type": "code",
   "execution_count": 30,
   "metadata": {},
   "outputs": [
    {
     "name": "stdout",
     "output_type": "stream",
     "text": [
      "The r-squared is: 0.7088568047708717\n"
     ]
    },
    {
     "data": {
      "image/png": "[encoded data removed]",
      "text/plain": [
       "<Figure size 432x288 with 1 Axes>"
      ]
     },
     "metadata": {
      "needs_background": "light"
     },
     "output_type": "display_data"
    }
   ],
   "source": [
    "#List the values to be used to create the linear regression model\n",
    "y_values=avg_mouse_cap['Tumor Volume (mm3)']\n",
    "x_values=avg_mouse_cap['Weight (g)']\n",
    "(slope, intercept, rvalue, pvalue, stderr) = linregress(x_values, y_values)\n",
    "regress_values = x_values * slope + intercept\n",
    "line_eq = \"y = \" + str(round(slope,2)) + \"x + \" + str(round(intercept,2))\n",
    "#Plot the linear regression model\n",
    "plt.scatter(x_values,y_values)\n",
    "plt.plot(x_values,regress_values,\"r-\")\n",
    "plt.annotate(line_eq,(20,30),fontsize=15,color=\"red\")\n",
    "plt.xlabel('Weight (g)', fontsize =10)\n",
    "plt.ylabel('Averag Tumor Volume (mm3)', fontsize =10)\n",
    "plt.title('Regression of Average Mouse Weight vs Average Tumor Volume',fontsize =13)\n",
    "print(f\"The r-squared is: {rvalue**2}\")\n",
    "plt.show()"
   ]
  }
 ],
 "metadata": {
  "anaconda-cloud": {},
  "kernelspec": {
   "display_name": "Python 3",
   "language": "python",
   "name": "python3"
  },
  "language_info": {
   "codemirror_mode": {
    "name": "ipython",
    "version": 3
   },
   "file_extension": ".py",
   "mimetype": "text/x-python",
   "name": "python",
   "nbconvert_exporter": "python",
   "pygments_lexer": "ipython3",
   "version": "3.8.3"
  }
 },
 "nbformat": 4,
 "nbformat_minor": 2
}
